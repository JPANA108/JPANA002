{
 "cells": [
  {
   "cell_type": "code",
   "execution_count": 8,
   "id": "d47bdb06",
   "metadata": {},
   "outputs": [],
   "source": [
    "import pandas as pd\n",
    "import re \n",
    "\n",
    "df = pd.read_excel(r'C:\\Users\\user\\Desktop\\py\\衍伸書目\\台灣政府文官調查_________0628\\WOS-TGBS-比對完成.xlsx')\n",
    "pd.set_option('display.max_columns', df.shape[0]+1)\n",
    "cite = pd.DataFrame(df)\n",
    "\n",
    "#選取摘要包含以下字串\n",
    "\n",
    "#cite = cite[cite['Abstract'].str.contains('International Social Survey Programme','ISSP','Taiwan')== True]\n",
    "\n",
    "\n",
    "cite = cite[cite['Abstract'].str.contains('Taiwan Government Bureaucrat Survey', flags = re.IGNORECASE )== True]\n",
    "\n"
   ]
  },
  {
   "cell_type": "code",
   "execution_count": 9,
   "id": "3df5573d",
   "metadata": {},
   "outputs": [
    {
     "name": "stdout",
     "output_type": "stream",
     "text": [
      "名冊輸出完成\n"
     ]
    },
    {
     "name": "stderr",
     "output_type": "stream",
     "text": [
      "C:\\Users\\user\\AppData\\Local\\Programs\\Python\\Python311\\Lib\\site-packages\\pandas\\util\\_decorators.py:211: FutureWarning: the 'encoding' keyword is deprecated and will be removed in a future version. Please take steps to stop the use of 'encoding'\n",
      "  return func(*args, **kwargs)\n"
     ]
    }
   ],
   "source": [
    "\n",
    "SaveFile_Path = r'C:\\Users\\user\\Desktop\\py\\衍伸書目\\台灣政府文官調查_________0628'\n",
    "SaveFile_Name = r'WOS-TGBS-比對完成'\n",
    "\n",
    "cite.to_excel(SaveFile_Path+'\\\\'+ SaveFile_Name + \".xlsx\", encoding = \"utf_8_sig\", index = False)\n",
    "\n",
    "print('名冊輸出完成')"
   ]
  },
  {
   "cell_type": "code",
   "execution_count": null,
   "id": "390ae497",
   "metadata": {},
   "outputs": [],
   "source": []
  }
 ],
 "metadata": {
  "hide_input": false,
  "kernelspec": {
   "display_name": "Python 3 (ipykernel)",
   "language": "python",
   "name": "python3"
  },
  "language_info": {
   "codemirror_mode": {
    "name": "ipython",
    "version": 3
   },
   "file_extension": ".py",
   "mimetype": "text/x-python",
   "name": "python",
   "nbconvert_exporter": "python",
   "pygments_lexer": "ipython3",
   "version": "3.11.0"
  },
  "toc": {
   "base_numbering": 1,
   "nav_menu": {},
   "number_sections": true,
   "sideBar": true,
   "skip_h1_title": false,
   "title_cell": "Table of Contents",
   "title_sidebar": "Contents",
   "toc_cell": false,
   "toc_position": {},
   "toc_section_display": true,
   "toc_window_display": false
  },
  "varInspector": {
   "cols": {
    "lenName": 16,
    "lenType": 16,
    "lenVar": 40
   },
   "kernels_config": {
    "python": {
     "delete_cmd_postfix": "",
     "delete_cmd_prefix": "del ",
     "library": "var_list.py",
     "varRefreshCmd": "print(var_dic_list())"
    },
    "r": {
     "delete_cmd_postfix": ") ",
     "delete_cmd_prefix": "rm(",
     "library": "var_list.r",
     "varRefreshCmd": "cat(var_dic_list()) "
    }
   },
   "types_to_exclude": [
    "module",
    "function",
    "builtin_function_or_method",
    "instance",
    "_Feature"
   ],
   "window_display": false
  }
 },
 "nbformat": 4,
 "nbformat_minor": 5
}
