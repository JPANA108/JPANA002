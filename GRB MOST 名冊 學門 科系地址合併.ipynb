{
 "cells": [
  {
   "cell_type": "markdown",
   "id": "6aece622",
   "metadata": {
    "scrolled": true
   },
   "source": [
    "### 載入相關套件\n",
    "<br>\n",
    "pandas、numpy和re為必要，datetime暫時不需要，time則為選配"
   ]
  },
  {
   "cell_type": "code",
   "execution_count": 161,
   "id": "18664454",
   "metadata": {},
   "outputs": [],
   "source": [
    "import pandas as pd\n",
    "import numpy as np\n",
    "import re\n",
    "import datetime  #將變項轉為時間格式，目前不需要\n",
    "import time  #輸出檔案時加註時間"
   ]
  },
  {
   "cell_type": "markdown",
   "id": "5173621c",
   "metadata": {},
   "source": [
    "### 讀取檔案\n",
    "#### 所需檔案清單\n",
    "\n",
    "- [ ] GRB爬蟲結果\n",
    "- [ ] MOST爬蟲結果\n",
    "- [ ] 科系地址清單\n",
    "- [ ] 學門清單\n",
    "- [ ] 名冊"
   ]
  },
  {
   "cell_type": "code",
   "execution_count": 165,
   "id": "50e67f59",
   "metadata": {},
   "outputs": [
    {
     "name": "stdout",
     "output_type": "stream",
     "text": [
      "GRB清單有217筆資料\n",
      "MOST清單有216筆資料\n",
      "原始清單有216筆資料\n"
     ]
    },
    {
     "name": "stderr",
     "output_type": "stream",
     "text": [
      "C:\\Users\\user\\AppData\\Local\\Programs\\Python\\Python310\\lib\\site-packages\\openpyxl\\worksheet\\header_footer.py:48: UserWarning: Cannot parse header or footer so it will be ignored\n",
      "  warn(\"\"\"Cannot parse header or footer so it will be ignored\"\"\")\n"
     ]
    }
   ],
   "source": [
    "GRB_path = r'C:\\Users\\user\\Desktop\\py\\TEST\\GRB_list_text_crawl__0817_1252.xlsx'  #GRB爬蟲結果路徑\n",
    "MOST_path = r'C:\\Users\\user\\Desktop\\py\\TEST\\MOST_list_text_crawl__0817_1019.xlsx'  #MOST爬蟲結果路徑\n",
    "address_list_path = r'C:\\Users\\user\\Desktop\\py\\merge\\finaltest\\科系地址.xlsx'  #科系地址路徑\n",
    "discipline_path = r'C:\\Users\\user\\Desktop\\py\\merge\\finaltest\\學門架構與研究領域.xlsx'  #學門清單路徑\n",
    "major_lsit_path = r'C:\\Users\\user\\Desktop\\py\\merge\\108調查計畫名冊_全司1081122.xlsx'  #名冊路徑\n",
    "\n",
    "GRB = pd.DataFrame(pd.read_excel(GRB_path))  #GRB名冊\n",
    "MOST = pd.DataFrame(pd.read_excel(MOST_path))  #MOST爬蟲結果\n",
    "address_list = pd.DataFrame(pd.read_excel(address_list_path))  #科系地址\n",
    "discipline_lsit = pd.DataFrame(pd.read_excel(discipline_path))  #學門清單\n",
    "major_lsit = pd.DataFrame(pd.read_excel(major_lsit_path))  #名冊\n",
    "\n",
    "print(\"GRB清單有\"+str(len(GRB))+\"筆資料\")\n",
    "print(\"MOST清單有\"+str(len(MOST))+\"筆資料\")\n",
    "print(\"原始清單有\"+str(len(major_lsit))+\"筆資料\")"
   ]
  },
  {
   "cell_type": "markdown",
   "id": "c9ddfaab",
   "metadata": {},
   "source": [
    "### 修改變項名稱\n",
    "<br>\n",
    "前面增加檔案名稱，比較方便判別來源<br>\n",
    "待最終步驟再一次修改變項名稱，並選擇保留那些變項\n",
    "\n"
   ]
  },
  {
   "cell_type": "code",
   "execution_count": 166,
   "id": "09c5d798",
   "metadata": {},
   "outputs": [],
   "source": [
    "address_list.columns = ['ADD學校名稱', 'ADD系所名稱', 'ADD機關地址']\n",
    "\n",
    "MOST.columns = [\n",
    "    'MOST計畫主持人', 'MOST執行起訖', 'MOST機關名稱', 'MOST調查計畫全稱(中)', 'MOST關鍵字(中文)',\n",
    "    'MOST關鍵字(英文)', 'MOST摘要(中文)', 'MOST摘要(英文)', 'MOST缺失情況'\n",
    "]\n",
    "\n",
    "GRB.columns = [\n",
    "    'GRB全部計畫主持人', 'GRB計畫編號', 'GRB執行機構', 'GRB調查計畫全稱(中)', 'GRB調查計畫全稱(英)', 'GRB研究領域_GRB',\n",
    "    'GRB核定金額', 'GRB研究期間','GRB關鍵字(中文)', 'GRB關鍵字(英文)', 'GRB摘要(中文)', 'GRB摘要(英文)',\n",
    "    'GRB網站依據(缺失情況)'\n",
    "]"
   ]
  },
  {
   "cell_type": "markdown",
   "id": "0a2200b0",
   "metadata": {},
   "source": [
    "### 將名冊的時間轉換格式\n",
    "**python不認識民國時間，所以要自己轉**\n",
    "\n",
    "**原始名冊**的格式為  民國年/月份/日期  <br>\n",
    " > 109/08/01<br>\n",
    "\n",
    "而**MOST爬蟲**結果格式為\n",
    " > 2021-08-01\n",
    " \n",
    "後續要比對時間，所以統一轉成和MOST相同"
   ]
  },
  {
   "cell_type": "code",
   "execution_count": 167,
   "id": "731ab7b9",
   "metadata": {},
   "outputs": [
    {
     "name": "stderr",
     "output_type": "stream",
     "text": [
      "C:\\Users\\user\\AppData\\Local\\Temp\\ipykernel_12568\\603121648.py:3: SettingWithCopyWarning: \n",
      "A value is trying to be set on a copy of a slice from a DataFrame\n",
      "\n",
      "See the caveats in the documentation: https://pandas.pydata.org/pandas-docs/stable/user_guide/indexing.html#returning-a-view-versus-a-copy\n",
      "  d_star.iloc[i] = d_star.iloc[i].replace(\n",
      "C:\\Users\\user\\AppData\\Local\\Temp\\ipykernel_12568\\603121648.py:8: SettingWithCopyWarning: \n",
      "A value is trying to be set on a copy of a slice from a DataFrame\n",
      "\n",
      "See the caveats in the documentation: https://pandas.pydata.org/pandas-docs/stable/user_guide/indexing.html#returning-a-view-versus-a-copy\n",
      "  d_end.iloc[i] = d_end.iloc[i].replace(d_end.iloc[i][0:3],\n"
     ]
    },
    {
     "data": {
      "text/plain": [
       "\"\\n# 並將「日期」列設置為索引。\\ncluster_data['date'] = pd.to_datetime(cluster_data['date']) \\ncluster_data = cluster_data.set_index(['date'], drop=True)\\ncluster_data\\n\""
      ]
     },
     "execution_count": 167,
     "metadata": {},
     "output_type": "execute_result"
    }
   ],
   "source": [
    "d_star = major_lsit['執行期限(起)']\n",
    "for i in range(len(major_lsit)):\n",
    "    d_star.iloc[i] = d_star.iloc[i].replace(\n",
    "        d_star.iloc[i][0:3], str(int(d_star.iloc[i][0:3]) + 1911))\n",
    "\n",
    "d_end = major_lsit['執行期限(迄)']\n",
    "for i in range(len(major_lsit)):\n",
    "    d_end.iloc[i] = d_end.iloc[i].replace(d_end.iloc[i][0:3],\n",
    "                                          str(int(d_end.iloc[i][0:3]) + 1911))\n",
    "\n",
    "    \n",
    "    \n",
    "major_lsit['執行期限(起)'] = major_lsit['執行期限(起)'].str.replace('/', '-')\n",
    "major_lsit['執行期限(迄)'] = major_lsit['執行期限(迄)'].str.replace('/', '-')\n",
    "\n",
    "\n",
    "\n",
    "'''\n",
    "d=pd.to_datetime(d,format='%Y/%m/%d')\n",
    "'''\n",
    "'''\n",
    "# 並將「日期」列設置為索引。\n",
    "cluster_data['date'] = pd.to_datetime(cluster_data['date']) \n",
    "cluster_data = cluster_data.set_index(['date'], drop=True)\n",
    "cluster_data\n",
    "'''"
   ]
  },
  {
   "cell_type": "markdown",
   "id": "10069751",
   "metadata": {},
   "source": [
    "### 處理學門代號\n",
    "<br>\n",
    "\n",
    "**原始名冊**的學門格式為    <br>\n",
    " > H41A4-策略管理\n",
    "\n",
    "使用將其拆為\n",
    " > H41A4    <br> \n",
    "            <br>\n",
    " -策略管理\n",
    "\n",
    "取前半部分 H41A4 做為「學門代號」之變項<br>\n",
    "並確保 **原始名冊** 和 **學門清單** 其頭尾沒有空格\n"
   ]
  },
  {
   "cell_type": "code",
   "execution_count": 168,
   "id": "26cda9f3",
   "metadata": {},
   "outputs": [],
   "source": [
    "major_lsit['學門代號'] = major_lsit['學門'].str.split('-').str.get(0)\n",
    "\n",
    "major_lsit['學門代號'] = major_lsit['學門代號'].str.strip()\n",
    "discipline_lsit['學門代碼\\n(第3層)'] = discipline_lsit['學門代碼\\n(第3層)'].str.strip()"
   ]
  },
  {
   "cell_type": "markdown",
   "id": "3e581acc",
   "metadata": {},
   "source": [
    "### 第一次合併 Merge1\n",
    "<br>\n",
    "\n",
    "<font color=#FF0000>**橫向**</font>合併  **原始名冊** 和  **學門清單** \n",
    "\n",
    "primary key為  **學門代碼**\n",
    "\n",
    "以**原始名冊**為主，Left join **學門清單**\n",
    "\n",
    "\n",
    "![Leftjoin](https://upload.cc/i1/2022/08/09/5FZAqy.png \"Left join\")\n",
    "\n",
    "\n",
    "\n",
    "以下示意圖\n",
    "\n",
    "\n",
    "| 原始名冊       | <font color=#0000FF>學門代碼</font>  | 學門清單      |\n",
    "|-              | -                                   |-              |\n",
    "| 內容          | 內容                                 | 內容          |\n",
    "| 內容          | 內容                                 | 內容          |\n",
    "\n",
    "<br>\n",
    "\n",
    "Merge1 = 原始名冊 +  學門清單"
   ]
  },
  {
   "cell_type": "code",
   "execution_count": 169,
   "id": "d61d0baf",
   "metadata": {},
   "outputs": [
    {
     "name": "stdout",
     "output_type": "stream",
     "text": [
      "merge1有216筆資料\n"
     ]
    }
   ],
   "source": [
    "major_lsit['學門'] = major_lsit['學門'].str.strip()\n",
    "discipline_lsit['代碼加學門'] = discipline_lsit['代碼加學門'].str.strip()\n",
    "\n",
    "merge1 = pd.merge(major_lsit,\n",
    "                  discipline_lsit,\n",
    "                  left_on='學門',\n",
    "                  right_on='代碼加學門',\n",
    "                  how='left')\n",
    "\n",
    "print(\"merge1有\"+str(len(merge1))+\"筆資料\")"
   ]
  },
  {
   "cell_type": "markdown",
   "id": "5910fd67",
   "metadata": {},
   "source": [
    "### 第二次合併 Merge2\n",
    "<br>\n",
    "\n",
    "<font color=#FF0000>**橫向**</font>合併  **merge1** 和  **科系地址** \n",
    "\n",
    "primary key為  **機關名稱(系所名稱)**\n",
    "\n",
    "以**merge1**為主，Left join **科系地址**\n",
    "\n",
    "![Leftjoin](https://upload.cc/i1/2022/08/10/jH3scl.png \"Left join\")\n",
    "\n",
    "\n",
    "Merge2 = 原始名冊 +  學門清單 + 科系地址"
   ]
  },
  {
   "cell_type": "code",
   "execution_count": 170,
   "id": "75ed2d57",
   "metadata": {},
   "outputs": [
    {
     "name": "stdout",
     "output_type": "stream",
     "text": [
      "merge2有216筆資料\n"
     ]
    }
   ],
   "source": [
    "merge2 = pd.merge(merge1,\n",
    "                  address_list,\n",
    "                  left_on='機關名稱'.strip(),\n",
    "                  right_on='ADD系所名稱'.strip(),\n",
    "                  how='left')\n",
    "\n",
    "print(\"merge2有\"+str(len(merge2))+\"筆資料\")"
   ]
  },
  {
   "cell_type": "markdown",
   "id": "8dd096e5",
   "metadata": {},
   "source": [
    "### 針對計畫編號進行處理\n",
    "<br>\n",
    "\n",
    "\n",
    " > MOST109-2410-H160-<font color=#0000FF>09</font>-SS3 \n",
    "\n",
    "從原始清單中有發現到以下問題\n",
    "\n",
    "- problem 1-- 藍字變項部份會有**未滿百位**的情況，如：09，而非009\n",
    "- problem 2-- 原始清單的編號是拆開的，如下表\n",
    "\n",
    "|計畫主持人|補|助|計|畫|<font color=#0000FF>編</font>|號|計畫名稱|\n",
    "|:--:|:--:|:--:|:--:|:--:|:--:|:--:|:--:|\n",
    "|翁一珍|109|2410|H|160|<font color=#0000FF>09</font>|SS3|台灣高等教育專業服務學習方案效益評估的多元觀點\n",
    "\n",
    "因此處理方法為\n",
    "\n",
    "- 自動補齊變項「編」到百位\n",
    "- 將各個變項數值轉為字串(str)，再用map()函數映射到新的變項-「原計畫編號」，添加「-」符合格式\n",
    "\n",
    "\n",
    "|原計畫編號|\n",
    "|:---------:|\n",
    "|MOST109-2410-H160-<font color=#0000FF>009</font>-SS3|\n"
   ]
  },
  {
   "cell_type": "code",
   "execution_count": 171,
   "id": "ed4d09b5",
   "metadata": {},
   "outputs": [],
   "source": [
    "merge2['編'] = merge2['編'].apply(lambda x: str(x).zfill(3))   #---補到百位\n",
    "\n",
    "merge2['原計畫編號'] = 'MOST' + merge2['補'].map(str) + '-' + merge2['助'].map(\n",
    "    str) + '-' + merge2['計'].map(str) + merge2['畫'].map(\n",
    "        str) + '-' + merge2['編'].map(str) + '-' + merge2['號'].map(str)    #---把編號組在一起\n",
    "merge2['原計畫編號'] = merge2['原計畫編號'].str.strip()\n",
    "\n",
    "\n",
    "\n",
    "SaveFile_Path = r'C:\\Users\\user\\Desktop\\py\\TEST'  #要儲存檔案的路徑\n",
    "\n",
    "merge2_Name = r'merge2'  #儲存的檔名，可以不用更動\n",
    "\n",
    "\n",
    "\n",
    "merge2.to_excel(SaveFile_Path + '\\\\' + merge2_Name + \"_\" + \"_\" +\n",
    "                      time.strftime(\"%m%d\") + \"_\" + time.strftime(\"%H%M\") +\n",
    "                      \".xlsx\",\n",
    "                      encoding=\"utf_8_sig\",\n",
    "                      index=False)"
   ]
  },
  {
   "cell_type": "markdown",
   "id": "aaf1f137",
   "metadata": {},
   "source": [
    "### 第三次合併 Merge3\n",
    "<br>\n",
    "\n",
    "先把GRB的作者切成\n",
    "\n",
    "-  計畫主持人\n",
    "-  共同/協同主持人\n",
    "\n",
    "此次合併將GRB和MOST的爬蟲資料對應\n",
    "\n",
    "primary key為  **計畫主持人**\n",
    "\n",
    "**Merge3可視為爬蟲資料的大合集**\n",
    "\n",
    "以資料較多的GRB為主，Left join MOST檔案\n",
    "\n",
    "| GRB| MOST| \n",
    "|-   |-    |\n",
    "|內容| 內容| \n",
    "|內容| 內容| \n",
    "\n",
    "\n",
    "Merge3 = GRB + MOST"
   ]
  },
  {
   "cell_type": "code",
   "execution_count": 172,
   "id": "e9760a35",
   "metadata": {},
   "outputs": [
    {
     "name": "stdout",
     "output_type": "stream",
     "text": [
      "merge3有217筆資料\n"
     ]
    }
   ],
   "source": [
    "en = re.compile(r'[a-zA-Z\\-\\；\\;]')\n",
    "cn = re.compile(r'[\\u4e00-\\u9fa5\\；\\;]')\n",
    "\n",
    "for i in GRB.index:\n",
    "    GRB.loc[i,'GRB全部主持人中文姓名'] = \"\".join(cn.findall(GRB.loc[i, 'GRB全部計畫主持人']))\n",
    "    GRB.loc[i,'GRB全部計畫主持人英文姓名'] = \"\".join(en.findall(GRB.loc[i, 'GRB全部計畫主持人']))\n",
    "\n",
    "GRB['GRB計畫主持人'] = GRB['GRB全部主持人中文姓名'].str.split(';',1).str.get(0).replace(';;;;;;', '').replace(';;', '')\n",
    "GRB['共同/協同主持人'] = GRB['GRB全部主持人中文姓名'].str.split(';',1).str.get(1).replace(';;;;;;', '').replace(';;', '')\n",
    "GRB['計畫主持人英文姓名'] = GRB['GRB全部計畫主持人英文姓名'].str.split(';',1).str.get(0).replace(';;;;;;', '').replace(';;', '')\n",
    "GRB['共同/協同主持人英文姓名'] = GRB['GRB全部計畫主持人英文姓名'].str.split(';',1).str.get(1).replace(';;;;;;', '').replace(';;', '')\n",
    "GRB['GRB計畫編號'] = GRB['GRB計畫編號'].str.strip()\n",
    "\n",
    "\n",
    "GRB = GRB.drop(['GRB全部主持人中文姓名'], axis=1)\n",
    "GRB = GRB.drop(['GRB全部計畫主持人英文姓名'], axis=1)\n",
    "\n",
    "'''\n",
    "merge3 = pd.merge(GRB,\n",
    "                  MOST,\n",
    "                  left_on='GRB計畫主持人'.strip(),\n",
    "                  right_on='MOST計畫主持人'.strip(),\n",
    "                  how='left')\n",
    "'''\n",
    "merge3 = GRB.join(MOST)\n",
    "\n",
    "\n",
    "'''\n",
    "\n",
    "merge3 = merge3.drop_duplicates(subset='MOST調查計畫全稱(中)',\n",
    "                               keep='first',\n",
    "                               inplace=False,\n",
    "                               ignore_index=False)\n",
    "'''\n",
    "\n",
    "\n",
    "\n",
    "print(\"merge3有\"+str(len(merge3))+\"筆資料\")\n",
    "\n",
    "\n",
    "SaveFile_Path = r'C:\\Users\\user\\Desktop\\py\\TEST'  #要儲存檔案的路徑\n",
    "\n",
    "error_Name = r'merge3'  #儲存的檔名，可以不用更動\n",
    "\n",
    "\n",
    "\n",
    "merge3.to_excel(SaveFile_Path + '\\\\' + error_Name + \"_\" + \"_\" +\n",
    "                      time.strftime(\"%m%d\") + \"_\" + time.strftime(\"%H%M\") +\n",
    "                      \".xlsx\",\n",
    "                      encoding=\"utf_8_sig\",\n",
    "                      index=False)\n"
   ]
  },
  {
   "cell_type": "markdown",
   "id": "932a1c8f",
   "metadata": {},
   "source": [
    "### 最終合併 final\n",
    "<br>\n",
    "\n",
    "將merge2 和 merge3合併\n",
    "\n",
    "primary key為  **計畫主持人**\n",
    "\n",
    "以包含原始清單的merge2 為主，Left join merge3\n",
    "\n",
    "\n",
    "\n",
    "final = 原始名冊 + 學門清單 + 科系地址 + GRB + MOST\n",
    "\n",
    "**最終資料示意圖**\n",
    "\n",
    "|原始名冊|學門清單|科系地址|GRB|MOST|\n",
    "|:-:|:-:|:-:|:-:|:-:|  \n",
    "|內容|內容|內容|內容|內容|\n",
    "|內容|內容|內容|內容|內容|"
   ]
  },
  {
   "cell_type": "code",
   "execution_count": 173,
   "id": "dee55490",
   "metadata": {},
   "outputs": [
    {
     "name": "stdout",
     "output_type": "stream",
     "text": [
      "final有216筆資料\n"
     ]
    }
   ],
   "source": [
    "'''\n",
    "\n",
    "final = pd.merge(merge2,\n",
    "                 merge3,\n",
    "                 left_on='計畫主持人'.strip(),\n",
    "                 right_on='MOST計畫主持人'.strip(),\n",
    "                 how='left')\n",
    "'''\n",
    "\n",
    "\n",
    "\n",
    "final =merge2.join(merge3)\n",
    "\n",
    "final_Name = r'final'  #儲存的檔名，可以不用更動\n",
    "\n",
    "\n",
    "final.to_excel(SaveFile_Path + '\\\\' + final_Name + \"_\" + \"_\" +\n",
    "                      time.strftime(\"%m%d\") + \"_\" + time.strftime(\"%H%M\") +\n",
    "                      \".xlsx\",\n",
    "                      encoding=\"utf_8_sig\",\n",
    "                      index=False)\n",
    "\n",
    "print(\"final有\"+str(len(final))+\"筆資料\")"
   ]
  },
  {
   "cell_type": "markdown",
   "id": "b6b436b8",
   "metadata": {},
   "source": [
    "## 針對最終檔案進行資料處理\n",
    "<br>\n",
    "\n"
   ]
  },
  {
   "cell_type": "markdown",
   "id": "43711416",
   "metadata": {},
   "source": [
    "### 分割計畫執行期間\n",
    "<br>\n",
    "\n",
    "**計畫執行期間以MOST為主**，因此直接分割MOST執行起訖\n",
    "\n",
    " >2021-08-01~2022-07-31\n",
    " \n",
    " 使用 .str.split ('~') \n",
    " <br>\n",
    " \n",
    " 將執行期間從 '~' 分割成兩部份\n",
    " \n",
    " >2021-08-01, 2022-07-31\n",
    " \n",
    "使用.str.get(0) ←輸入0 取前半段 當作 計畫起始時間 <br>\n",
    "使用.str.get(1) ←輸入1 取後半段 當作 計畫結束時間\n",
    " <br>\n",
    "\n",
    "**此步驟沒有取代原始的「MOST執行起訖」變項，而是分割出兩個新的**\n",
    " <br>\n",
    "\n",
    "\n",
    "|MOST執行起訖|計畫執行期間起|計畫執行期間迄|\n",
    "|:-:|:-:|:-:|\n",
    "|2021-08-01~2022-07-31|2021-08-01|2022-07-31|\n",
    "\n"
   ]
  },
  {
   "cell_type": "code",
   "execution_count": 174,
   "id": "7f7a0f04",
   "metadata": {},
   "outputs": [
    {
     "data": {
      "text/plain": [
       "\"\\nresult['計畫執行期間起'] = pd.to_datetime(result['計畫執行期間起'])\\nresult['計畫執行期間迄'] = pd.to_datetime(result['計畫執行期間迄'])\\n\""
      ]
     },
     "execution_count": 174,
     "metadata": {},
     "output_type": "execute_result"
    }
   ],
   "source": [
    "final['MOST計畫執行期間起'] = final['MOST執行起訖'].str.split('~').str.get(0)\n",
    "final['MOST計畫執行期間迄'] = final['MOST執行起訖'].str.split('~').str.get(1)\n",
    "'''\n",
    "result['計畫執行期間起'] = pd.to_datetime(result['計畫執行期間起'])\n",
    "result['計畫執行期間迄'] = pd.to_datetime(result['計畫執行期間迄'])\n",
    "'''"
   ]
  },
  {
   "cell_type": "markdown",
   "id": "c99a66d1",
   "metadata": {},
   "source": [
    "### 執行年期轉換\n",
    "<br>\n",
    "\n",
    ">~~MOST109-2410-H003-062-SS~~<font color=#0000FF>S</font><br>\n",
    ">~~MOST109-2410-H029-027-SS~~<font color=#0000FF>2</font><br>\n",
    ">~~MOST109-2423-H037-001-SS~~<font color=#0000FF>3</font><br>\n",
    "\n",
    "從編號可以觀察到，除了1年期為SSS，其餘皆為年份數字<br>\n",
    "因此，將編號從'**SS**'切割，取後半部<br>\n",
    "把'S'轉為1<br>\n",
    "得到以下結果<br>\n",
    "\n",
    ">S －轉換－→ 1<br>\n",
    ">2<br>\n",
    ">3<br>\n",
    "\n",
    "\n"
   ]
  },
  {
   "cell_type": "code",
   "execution_count": 175,
   "id": "6ef462bf",
   "metadata": {},
   "outputs": [],
   "source": [
    "final['原計畫編號'].str.split('SS').str.get(1)\n",
    "final['年期'] = final['原計畫編號'].str.split('SS').str.get(1).str.replace('S', '1')"
   ]
  },
  {
   "cell_type": "markdown",
   "id": "498b6a01",
   "metadata": {},
   "source": [
    "### 刪除重複計畫\n",
    "<br>\n",
    "\n",
    "原因在於GRB使用excel匯出版本，會有不同年份的計畫<br>\n",
    "\n",
    "使用 keep='first' 保留第一筆(年份最小)"
   ]
  },
  {
   "cell_type": "code",
   "execution_count": 176,
   "id": "70b1f696",
   "metadata": {},
   "outputs": [],
   "source": [
    "final = final.drop_duplicates(subset='計畫名稱',\n",
    "                              keep='first',\n",
    "                              inplace=False,\n",
    "                              ignore_index=False)"
   ]
  },
  {
   "cell_type": "markdown",
   "id": "e53d60ae",
   "metadata": {},
   "source": [
    "### 計畫編號比對\n",
    "<br>\n",
    "\n",
    "將原始清單之編號與GRB編號進行比對<br>\n",
    "\n",
    "\n",
    "> if original_num == GRB_num:<br>\n",
    "    >&emsp;&emsp;return Ture<br>\n",
    "> else:<br>\n",
    "    >&emsp;&emsp;return False<br>\n",
    "    \n",
    "\n",
    "再用map()映射，把'Ture'轉成「編號一致」；把'False'轉成「編號不一致」<br>\n",
    "\n",
    "起始和結束日期也是同樣方法<br>\n",
    "\n",
    "最後把存放Ture、False的變項刪除<br>"
   ]
  },
  {
   "cell_type": "code",
   "execution_count": 177,
   "id": "5a2dd463",
   "metadata": {},
   "outputs": [
    {
     "data": {
      "text/plain": [
       "0      False\n",
       "1      False\n",
       "2      False\n",
       "3      False\n",
       "4       True\n",
       "       ...  \n",
       "211    False\n",
       "212    False\n",
       "213    False\n",
       "214    False\n",
       "215    False\n",
       "Name: 比對, Length: 216, dtype: bool"
      ]
     },
     "execution_count": 177,
     "metadata": {},
     "output_type": "execute_result"
    }
   ],
   "source": [
    "\n",
    "#----------------------------------------------------編號\n",
    "\n",
    "original_num = final['原計畫編號']\n",
    "GRB_num = final['GRB計畫編號']\n",
    "\n",
    "original_com = pd.DataFrame(original_num)\n",
    "GRB_com = pd.DataFrame(GRB_num)\n",
    "\n",
    "final['比對'] = (original_num == GRB_num)\n",
    "final['編號比對結果'] = final['比對'].map({True: '編號一致', False: '編號不一致'})\n",
    "\n",
    "#----------------------------------------------------起始\n",
    "\n",
    "major_start_com = final['執行期限(起)']\n",
    "most_start_com = final['MOST計畫執行期間起']\n",
    "\n",
    "Dmajor_start_com = pd.DataFrame(major_start_com)\n",
    "Dmost_start_com = pd.DataFrame(most_start_com)\n",
    "final['起始日期比對'] = (major_start_com == most_start_com)\n",
    "final['起始日期比對結果'] = final['起始日期比對'].map({True: '日期一致', False: '日期不一致'})\n",
    "\n",
    "#----------------------------------------------------結束\n",
    "major_end_com = final['執行期限(迄)']\n",
    "most_end_com = final['MOST計畫執行期間迄']\n",
    "\n",
    "Dmajor_end_com = pd.DataFrame(major_end_com)\n",
    "Dmost_end_com = pd.DataFrame(most_end_com)\n",
    "final['結束日期比對'] = (major_end_com == most_end_com)\n",
    "final['結束日期比對結果'] = final['結束日期比對'].map({True: '日期一致', False: '日期不一致'})\n",
    "\n",
    "'''\n",
    "final = final.drop(['比對'], axis=1)\n",
    "final = final.drop(['起始日期比對'], axis=1)\n",
    "final = final.drop(['結束日期比對'], axis=1)\n",
    "'''\n",
    "\n",
    "final['比對']"
   ]
  },
  {
   "cell_type": "markdown",
   "id": "01e856fb",
   "metadata": {},
   "source": [
    "### 用GRB替補MOST\n",
    "<br>\n",
    "\n",
    "以MOST為主，但若MOST有遺漏資訊，使用GRB替補\n",
    "\n",
    "先把NaN空值轉為 None<br>\n",
    "建立一個額外的DataFrame (aaa)<br>\n",
    "把MOST和GRB的資訊放在一起，前面GRB；後面MOST<br>\n",
    "只要MOST欄位有空值，則向前替補一行 limit=1 <br>\n",
    "\n",
    "\n",
    "替補示意圖\n",
    "\n",
    "|GRB關鍵字(中文)|MOST關鍵字(中文)|GRB關鍵字(英文)|MOST關鍵字(英文)|GRB摘要(中文)|MOST摘要(中文)|GRB摘要(英文)|MOST摘要(英文)|\n",
    "|:-:|:-:|:-:|:-:|:-:|:-:|:-:|:-:|\n",
    "|A|無|B|無|無|無|D|無|\n",
    "\n",
    "<br>\n",
    "<br>\n",
    "\n",
    "|GRB關鍵字(中文)|MOST關鍵字(中文)|GRB關鍵字(英文)|MOST關鍵字(英文)|GRB摘要(中文)|MOST摘要(中文)|GRB摘要(英文)|MOST摘要(英文)|\n",
    "|:-:|:-:|:-:|:-:|:-:|:-:|:-:|:-:|\n",
    "|A|A|B|B|無|無|D|D|\n",
    "\n",
    "\n",
    "<br>\n",
    "<br>\n",
    "\n",
    "最後把aaa加到final\n",
    "\n",
    "像是用aaa蓋上final重疊的部份\n",
    "<br>\n",
    "<br>\n",
    "![Outerjoin](https://upload.cc/i1/2022/08/10/8DweRf.png \"Outer join\")\n",
    "\n",
    "\n"
   ]
  },
  {
   "cell_type": "code",
   "execution_count": 178,
   "id": "6038623a",
   "metadata": {},
   "outputs": [],
   "source": [
    "#用GRB替補MOST\n",
    "final = final.replace({np.nan: None})\n",
    "\n",
    "aaa = final[['GRB關鍵字(中文)', 'MOST關鍵字(中文)', 'GRB關鍵字(英文)','MOST關鍵字(英文)', 'GRB摘要(中文)', 'MOST摘要(中文)', 'GRB摘要(英文)', 'MOST摘要(英文)',]]\n",
    "\n",
    "\n",
    "aaa = aaa.fillna(axis = 1 , method='ffill', limit=1)\n",
    "\n",
    "aaa = aaa.loc[:,['MOST關鍵字(中文)','MOST關鍵字(英文)', 'MOST摘要(中文)', 'MOST摘要(英文)']]\n",
    "aaa.columns =['關鍵字(中文)','關鍵字(英文)', '摘要(中文)', '摘要(英文)']\n",
    "\n",
    "\n",
    "\n",
    "Final_final = pd.concat([final,aaa],axis =1 ,join = 'outer')"
   ]
  },
  {
   "cell_type": "markdown",
   "id": "1ebb4eb9",
   "metadata": {},
   "source": [
    "### 變項刪除及改名\n",
    "<br>\n",
    "保留需要的變項，同時改名\n"
   ]
  },
  {
   "cell_type": "code",
   "execution_count": 179,
   "id": "b7ee2438",
   "metadata": {},
   "outputs": [
    {
     "data": {
      "text/plain": [
       "\"\\ncols = [\\n    '計畫主持人', '補', '助', '計', '畫', '編', '號', '機關名稱', '計畫名稱', '核定金額', '執行期限(起)',\\n    '執行期限(迄)', '學門', '職稱', 'Email', '學門代號', '人文及社會', '學門架構', '代碼加學門',\\n    '學門代碼\\n(第3層)', '學門名稱(中)', '學門名稱(英)', 'GRB研究領域', 'ADD學校名稱', 'ADD系所名稱',\\n    'ADD機關地址', '原計畫編號', 'GRB系統辨識別', 'GRB系統編號', 'GRB原計畫編號', 'GRB調查計畫全稱(中)',\\n    'GRB調查計畫全稱(英)', 'GRB機關名稱', 'GRB計畫年份', 'GRB經費補助單位全稱(中)', 'GRB研究方式',\\n    'GRB研究性質', 'GRB研究領域(學門分類)', 'GRB計畫執行期間起', 'GRB計畫執行期間迄', 'GRB核定金額',\\n    'GRB計畫主持人', 'GRB共同主持人', 'GRB關鍵字(中文)', 'MOST關鍵字(中文)', 'GRB關鍵字(英文)',\\n    'MOST關鍵字(英文)', 'GRB摘要(中文)', 'MOST摘要(中文)', 'GRB摘要(英文)', 'MOST摘要(英文)',\\n    'GRB研究計畫詳目連結', 'MOST計畫主持人', 'MOST執行起訖', 'MOST機關名稱', 'MOST調查計畫全稱(中)',\\n    '計畫執行期間起', '計畫執行期間迄', '年期', '編號比對結果', '起始日期比對結果', '結束日期比對結果'\\n]\\nFinal_final = Final_final[cols]  #--改名\\n\\n\""
      ]
     },
     "execution_count": 179,
     "metadata": {},
     "output_type": "execute_result"
    }
   ],
   "source": [
    "'''\n",
    "cols = [\n",
    "    '計畫主持人', '補', '助', '計', '畫', '編', '號', '機關名稱', '計畫名稱', '核定金額', '執行期限(起)',\n",
    "    '執行期限(迄)', '學門', '職稱', 'Email', '學門代號', '人文及社會', '學門架構', '代碼加學門',\n",
    "    '學門代碼\\n(第3層)', '學門名稱(中)', '學門名稱(英)', 'GRB研究領域', 'ADD學校名稱', 'ADD系所名稱',\n",
    "    'ADD機關地址', '原計畫編號', 'GRB系統辨識別', 'GRB系統編號', 'GRB原計畫編號', 'GRB調查計畫全稱(中)',\n",
    "    'GRB調查計畫全稱(英)', 'GRB機關名稱', 'GRB計畫年份', 'GRB經費補助單位全稱(中)', 'GRB研究方式',\n",
    "    'GRB研究性質', 'GRB研究領域(學門分類)', 'GRB計畫執行期間起', 'GRB計畫執行期間迄', 'GRB核定金額',\n",
    "    'GRB計畫主持人', 'GRB共同主持人', 'GRB關鍵字(中文)', 'MOST關鍵字(中文)', 'GRB關鍵字(英文)',\n",
    "    'MOST關鍵字(英文)', 'GRB摘要(中文)', 'MOST摘要(中文)', 'GRB摘要(英文)', 'MOST摘要(英文)',\n",
    "    'GRB研究計畫詳目連結', 'MOST計畫主持人', 'MOST執行起訖', 'MOST機關名稱', 'MOST調查計畫全稱(中)',\n",
    "    '計畫執行期間起', '計畫執行期間迄', '年期', '編號比對結果', '起始日期比對結果', '結束日期比對結果'\n",
    "]\n",
    "Final_final = Final_final[cols]  #--改名\n",
    "\n",
    "'''\n",
    "\n"
   ]
  },
  {
   "cell_type": "code",
   "execution_count": 180,
   "id": "1442426b",
   "metadata": {
    "code_folding": []
   },
   "outputs": [
    {
     "name": "stdout",
     "output_type": "stream",
     "text": [
      "    計畫主持人    補     助  計    畫    編    號                  機關名稱  \\\n",
      "0     施淑慎  108  2410  H    4  094  SSS          國立政治大學師資培育中心   \n",
      "1     陳素燕  108  2410  H    7  045  SSS      國立清華大學學習科學與科技研究所   \n",
      "2     辜玉旻  108  2410  H    8  039  SS2        國立中央大學學習與教學研究所   \n",
      "3     林志哲  108  2410  H   27  008  SSS        國立臺北科技大學師資培育中心   \n",
      "4      鄭雯  108  2410  H  110  021  SSS          國立中山大學師資培育中心   \n",
      "..    ...  ...   ... ..  ...  ...  ...                   ...   \n",
      "211   林妍如  108  2410  H  182  011  SS3          長庚大學人文及社會醫學科   \n",
      "212   曾旭民  108  2410  H  182  007  SSS         長庚大學醫務管理學系（所）   \n",
      "213   邱尚志  108  2410  H  227  004  SSS  國立臺北護理健康大學健康事業管理系（所）   \n",
      "214   張振傑  108  2410  H  241  003  SSS      弘光科技大學健康事業管理系(所)   \n",
      "215   洪春復  108  2410  H  507  001  SSS          國立金門大學長期照護學系   \n",
      "\n",
      "                                         計畫名稱     核定金額  ...     比對 編號比對結果  \\\n",
      "0                        自我疼惜對大學生學習倦怠的緩解效果之探究   767000  ...  False  編號不一致   \n",
      "1                      學習地圖、學習經驗與學習軌跡-高教新變革探究   881000  ...  False  編號不一致   \n",
      "2                    情境導向的閱讀素養評量與教學：工具開發與實驗教學  1880000  ...  False  編號不一致   \n",
      "3                            父母教養、時間觀及感恩特質之關係   716000  ...  False  編號不一致   \n",
      "4                    內在動機的增強：以教育方式對自我感知的培育為探討   644000  ...   True   編號一致   \n",
      "..                                        ...      ...  ...    ...    ...   \n",
      "211   年輕醫師職涯成就：以「能力–激勵–機會」架構檢視醫學教育學制改革及機構管理成效  2850000  ...  False  編號不一致   \n",
      "212       圖示輔助用藥說明對糖尿病服藥依順性之成效探討：健康識能–告知模型之應用   650000  ...  False  編號不一致   \n",
      "213          評估二型糖尿病人不同病人健康分群與併發症之風險：以某區域醫院為例   500000  ...  False  編號不一致   \n",
      "214  探討不同霸凌來源對護理人員之身心健康及離業傾向的影響：兼論不同社會支持的調節效果   680000  ...  False  編號不一致   \n",
      "215             銀髮族健康促進方案選擇偏好及其經濟價值之研究–以金門縣為例   700000  ...  False  編號不一致   \n",
      "\n",
      "    起始日期比對 起始日期比對結果 結束日期比對 結束日期比對結果  \\\n",
      "0     True     日期一致   True     日期一致   \n",
      "1     True     日期一致   True     日期一致   \n",
      "2     True     日期一致  False    日期不一致   \n",
      "3     True     日期一致   True     日期一致   \n",
      "4     True     日期一致  False    日期不一致   \n",
      "..     ...      ...    ...      ...   \n",
      "211   True     日期一致   True     日期一致   \n",
      "212   True     日期一致  False    日期不一致   \n",
      "213   True     日期一致   True     日期一致   \n",
      "214   True     日期一致  False    日期不一致   \n",
      "215   True     日期一致  False    日期不一致   \n",
      "\n",
      "                                               關鍵字(中文)  \\\n",
      "0                             自我疼惜、能力知覺、完美主義、學習倦怠、工作投入   \n",
      "1    學習地圖、學習經驗、學習軌跡、高教變革、教育方案、跨領域、主修專長、經驗知識、套裝知識、自主...   \n",
      "2                                  閱讀理解、情境導向、閱讀素養、閱讀評量   \n",
      "3                                  感恩、父親教養、母親教養、中介、時間觀   \n",
      "4                                   自我感知、內/外在學習動機、教育方式   \n",
      "..                                                 ...   \n",
      "211  慢性腎臟病；腎性貧血；紅血球生成素；智慧給藥；資料探勘；資料視覺化；人工智慧演算；臨床試驗；...   \n",
      "212                               用藥識能、圖示輔助說明、用藥資訊、糖尿病   \n",
      "213              二型糖尿病、健康概況分群、糖尿病併發症、病人行為、潛在剖面分析、多面項資料   \n",
      "214                           護理人員、職場霸凌、身心健康、離業傾向、社會支持   \n",
      "215                           銀髮族、高齡社會、健康促進、選擇試驗法、願付價值   \n",
      "\n",
      "                                               關鍵字(英文)  \\\n",
      "0    self-compassion, perceived competence, perfect...   \n",
      "1    learning map, learning experience, learning tr...   \n",
      "2    reading comprehension; scenario-based assessme...   \n",
      "3    gratitude; paternal parenting; maternal parent...   \n",
      "4    Sense of Self, Intrinsic/Extrinsic Motivation,...   \n",
      "..                                                 ...   \n",
      "211  Chronic kidney disease； Renal anemia； Erythrop...   \n",
      "212  Medication Literacy; Pictogram; Medication Inf...   \n",
      "213      type 2 diabetes, self-efficiency, survey, LPA   \n",
      "214  nurses, workplace bullying, physical and menta...   \n",
      "215  the elderly, aged society, health promotion, c...   \n",
      "\n",
      "                                                摘要(中文)  \\\n",
      "0    本研究主要探討國內大學生的自我能力知覺，對於自我疼惜的每一成分 (自我友善、共同人性以及正念...   \n",
      "1    大學的核心價值是發現與創新，尤其是在高教機構本身的教育建置。此系列研究以了解新世代學習軌跡為...   \n",
      "2    過去學者指出，讀者在進行閱讀理解時，其認知歷程會同時受到讀者、文本及閱讀活動或目的等三個因素...   \n",
      "3    本研究旨在探討為何人類在面臨同一事件或情境時，高感恩特質者相較低感恩特質者，會更容易、更頻繁...   \n",
      "4    本研究提出探討藉由自我感知培養的教育方式，長效地提升個體的學習動機。研究針對接受一般體制內教...   \n",
      "..                                                 ...   \n",
      "211                                                      \n",
      "212  背景： 用藥識能與依順性對糖尿病患者的疾病控制扮演重要的角色，增進患者的用藥依順性是糖尿病完...   \n",
      "213  糖尿病盛行率居高不下，隨著人口老化也伴隨著嚴重的經濟負擔與健保資源的大量投入，大部分的研究指...   \n",
      "214  護理人員遭到職場霸凌的機率遠高於其他醫療專業人員，當護理人員遭到霸凌所帶來之負向影響不僅衝擊...   \n",
      "215  隨著全球高齡人口的增加，人口老化是當前世界各國面對的重大挑戰。台灣在2018年65歲以上高齡...   \n",
      "\n",
      "                                                摘要(英文)  \n",
      "0    The present study attempted to explore the mod...  \n",
      "1    Testing out new ways of delivering education i...  \n",
      "2    Reading comprehension is a complex process, an...  \n",
      "3    This study investigated the relations between ...  \n",
      "4    This study was designed to investigate how to ...  \n",
      "..                                                 ...  \n",
      "211                                                     \n",
      "212  BACKGROUND: Medication adherence is critical f...  \n",
      "213  The high prevalence of diabetes with aging pop...  \n",
      "214  The probability of nurses being bullied in the...  \n",
      "215  Population aging has become a critical challen...  \n",
      "\n",
      "[216 rows x 66 columns]\n"
     ]
    }
   ],
   "source": [
    "\n",
    "'''\n",
    "final['MOST關鍵字(中文)'] = final['GRB關鍵字(中文)'].fillna(method = 'backfill',limit=1, inplace = True)\n",
    "final['GRB關鍵字(英文)'].fillna(method = 'backfill',limit=1, inplace = True)\n",
    "final['GRB摘要(中文)'].fillna(method = 'backfill',limit=1, inplace = True)\n",
    "final['GRB摘要(英文)'].fillna(method = 'backfill',limit=1, inplace = True)\n",
    "'''\n",
    "'''\n",
    "final = final.drop(['機關名稱'], axis=1)\n",
    "final = final.drop(['機關名稱_y'], axis=1)\n",
    "final = final.drop(['補'], axis=1)\n",
    "final = final.drop(['助'], axis=1)\n",
    "final = final.drop(['計'], axis=1)\n",
    "final = final.drop(['畫'], axis=1)\n",
    "final = final.drop(['編'], axis=1)\n",
    "final = final.drop(['號'], axis=1)\n",
    "final = final.drop(['執行期限(起)'], axis=1)\n",
    "final = final.drop(['執行期限(迄)'], axis=1)\n",
    "final = final.drop(['代碼加學門'], axis=1)\n",
    "final = final.drop(['學門代碼\\n(第3層)'], axis=1)\n",
    "final = final.drop(['系統辨識別'], axis=1)\n",
    "final = final.drop(['系統編號'], axis=1)\n",
    "final = final.drop(['核定金額_y'], axis=1)\n",
    "final = final.drop(['計畫主持人_y'], axis=1)\n",
    "final = final.drop(['機關名稱_x'], axis=1)\n",
    "final = final.drop(['調查計畫全稱(中)_x'], axis=1)\n",
    "final = final.drop(['關鍵字(中文)_y'], axis=1)\n",
    "final = final.drop(['關鍵字(英文)_y'], axis=1)\n",
    "final = final.drop(['摘要(中文)_y'], axis=1)\n",
    "final = final.drop(['摘要(英文)_y'], axis=1)\n",
    "final = final.drop(['執行起訖'], axis=1)\n",
    "final = final.drop(['調查計畫全稱(中)_y'], axis=1)\n",
    "\n",
    "\n",
    "#刪除計畫名稱一樣但年度不一樣的，保留第一筆(年度最接近者)\n",
    "final = final.drop_duplicates(subset='計畫名稱',\n",
    "                              keep='first',\n",
    "                              inplace=False,\n",
    "                              ignore_index=False)\n",
    "'''\n",
    "'''\n",
    "final.columns = ['計畫主持人', '計畫名稱', '核定金額', '學門', '職稱', 'Email', '學門代號',\n",
    "                 '人文及社會', '學門架構', '學門名稱(中)', \n",
    "                 \n",
    "\n",
    "    \n",
    "    \n",
    "    '系統辨識別', '系統編號', '原計畫編號', '調查計畫全稱(中)', '調查計畫全稱(英)', '機關名稱', '計畫年份',\n",
    "    '經費補助單位全稱(中)', '研究方式', '研究性質', '研究領域(學門分類)', '計畫執行期間起', '計畫執行期間迄',\n",
    "    '核定金額(千元)', '計畫主持人', '共同主持人', '關鍵字(中文)', '關鍵字(英文)', '摘要(中文)', '摘要(英文)',\n",
    "    '研究計畫詳目連結', '學校名稱', '系所名稱', '機關地址', '年期'\n",
    "]\n",
    "'''\n",
    "\n",
    "print(Final_final)"
   ]
  },
  {
   "cell_type": "markdown",
   "id": "16500dc6",
   "metadata": {},
   "source": [
    "### 匯出檔案"
   ]
  },
  {
   "cell_type": "code",
   "execution_count": 181,
   "id": "e526f917",
   "metadata": {
    "code_folding": []
   },
   "outputs": [
    {
     "name": "stdout",
     "output_type": "stream",
     "text": [
      "錯誤檔匯出成功\n",
      "合併檔匯出成功\n",
      "合併檔有216筆資料\n",
      "錯誤檔有3筆資料\n"
     ]
    }
   ],
   "source": [
    "Error = Final_final[Final_final['編號比對結果'].str.contains('不一致') == True]\n",
    "Error = Final_final[Final_final['起始日期比對結果'].str.contains('不一致') == True]\n",
    "Error = Final_final[Final_final['結束日期比對結果'].str.contains('不一致') == True]\n",
    "Error = Final_final[Final_final['MOST缺失情況'].str.contains('程式在MOST查無資料，請手動查詢。') == True]\n",
    "Error = Final_final[Final_final['GRB網站依據(缺失情況)'].str.contains('程式在GRB查無資料，請手動查詢。') == True]\n",
    "\n",
    "\n",
    "\n",
    "Error = Error.loc[:, [\n",
    "    '計畫主持人', '原計畫編號', 'GRB計畫編號', '計畫名稱', '執行期限(起)', '執行期限(迄)', 'MOST計畫執行期間起',\n",
    "    'MOST計畫執行期間迄', '編號比對結果', '起始日期比對結果', '結束日期比對結果', 'MOST缺失情況','GRB網站依據(缺失情況)'\n",
    "]]\n",
    "error_Name = r'錯誤檔'  #儲存的檔名，可以不用更動\n",
    "\n",
    "try:\n",
    "    Error.to_excel(SaveFile_Path + '\\\\' + error_Name + \"_\" + \"_\" +\n",
    "                   time.strftime(\"%m%d\") + \"_\" + time.strftime(\"%H%M\") +\n",
    "                   \".xlsx\",\n",
    "                   encoding=\"utf_8_sig\",\n",
    "                   index=False)  #儲存結果\n",
    "    print(\"錯誤檔匯出成功\")  #最終檔名會加上 1.月份 2.日期 3.時間(時分)\n",
    "except:\n",
    "    print(\"錯誤檔匯出失敗\")\n",
    "\n",
    "Final_final = Final_final.drop(['補'], axis=1)\n",
    "Final_final = Final_final.drop(['助'], axis=1)\n",
    "Final_final = Final_final.drop(['計'], axis=1)\n",
    "Final_final = Final_final.drop(['畫'], axis=1)\n",
    "Final_final = Final_final.drop(['編'], axis=1)\n",
    "Final_final = Final_final.drop(['號'], axis=1)\n",
    "Final_final = Final_final.drop(['代碼加學門'], axis=1)\n",
    "Final_final = Final_final.drop(['學門代碼\\n(第3層)'], axis=1)\n",
    "Final_final = Final_final.drop(['ADD系所名稱'], axis=1)\n",
    "Final_final = Final_final.drop(['GRB全部計畫主持人'], axis=1)\n",
    "Final_final = Final_final.drop(['GRB計畫編號'], axis=1)\n",
    "Final_final = Final_final.drop(['GRB執行機構'], axis=1)\n",
    "Final_final = Final_final.drop(['GRB研究領域_GRB'], axis=1)\n",
    "Final_final = Final_final.drop(['GRB核定金額'], axis=1)\n",
    "Final_final = Final_final.drop(['MOST缺失情況'], axis=1)\n",
    "Final_final = Final_final.drop(['GRB研究期間'], axis=1)\n",
    "Final_final = Final_final.drop(['GRB網站依據(缺失情況)'], axis=1)\n",
    "Final_final = Final_final.drop(['GRB計畫主持人'], axis=1)\n",
    "Final_final = Final_final.drop(['MOST計畫主持人'], axis=1)\n",
    "Final_final = Final_final.drop(['MOST機關名稱'], axis=1)\n",
    "Final_final = Final_final.drop(['MOST調查計畫全稱(中)'], axis=1)\n",
    "Final_final = Final_final.drop(['MOST關鍵字(中文)'], axis=1)\n",
    "Final_final = Final_final.drop(['MOST關鍵字(英文)'], axis=1)\n",
    "Final_final = Final_final.drop(['MOST摘要(中文)'], axis=1)\n",
    "Final_final = Final_final.drop(['MOST摘要(英文)'], axis=1)\n",
    "Final_final = Final_final.drop(['GRB關鍵字(中文)'], axis=1)\n",
    "Final_final = Final_final.drop(['GRB關鍵字(英文)'], axis=1)\n",
    "Final_final = Final_final.drop(['GRB摘要(中文)'], axis=1)\n",
    "Final_final = Final_final.drop(['GRB摘要(英文)'], axis=1)\n",
    "Final_final = Final_final.drop(['比對'], axis=1)\n",
    "Final_final = Final_final.drop(['編號比對結果'], axis=1)\n",
    "Final_final = Final_final.drop(['起始日期比對'], axis=1)\n",
    "Final_final = Final_final.drop(['起始日期比對結果'], axis=1)\n",
    "Final_final = Final_final.drop(['結束日期比對'], axis=1)\n",
    "Final_final = Final_final.drop(['結束日期比對結果'], axis=1)\n",
    "Final_final = Final_final.drop(['MOST執行起訖'], axis=1)\n",
    "\n",
    "#儲存結果\n",
    "#★★★★★★★★★★★★★★★★★★★★★★★★★★★★★★★★★★★★★★★★★★★★★★★★★★★★★★★★★★★★\n",
    "SaveFile_Path = r'C:\\Users\\user\\Desktop\\py\\TEST'  #要儲存檔案的路徑\n",
    "#★★★★★★★★★★★★★★★★★★★★★★★★★★★★★★★★★★★★★★★★★★★★★★★★★★★★★★★★★★★★\n",
    "\n",
    "SaveFile_Name = r'合併'  #儲存的檔名，可以不用更動\n",
    "\n",
    "try:\n",
    "    Final_final.to_excel(SaveFile_Path + '\\\\' + SaveFile_Name + \"_\" + \"_\" +\n",
    "                         time.strftime(\"%m%d\") + \"_\" + time.strftime(\"%H%M\") +\n",
    "                         \".xlsx\",\n",
    "                         encoding=\"utf_8_sig\",\n",
    "                         index=False)  #儲存結果\n",
    "    print(\"合併檔匯出成功\")  #最終檔名會加上 1.月份 2.日期 3.時間(時分)\n",
    "except:\n",
    "    print(\"合併檔匯出失敗\")\n",
    "\n",
    "print(\"合併檔有\" + str(len(Final_final)) + \"筆資料\")\n",
    "print(\"錯誤檔有\" + str(len(Error)) + \"筆資料\")"
   ]
  },
  {
   "cell_type": "code",
   "execution_count": null,
   "id": "b3407789",
   "metadata": {},
   "outputs": [],
   "source": []
  }
 ],
 "metadata": {
  "hide_input": false,
  "kernelspec": {
   "display_name": "Python 3 (ipykernel)",
   "language": "python",
   "name": "python3"
  },
  "language_info": {
   "codemirror_mode": {
    "name": "ipython",
    "version": 3
   },
   "file_extension": ".py",
   "mimetype": "text/x-python",
   "name": "python",
   "nbconvert_exporter": "python",
   "pygments_lexer": "ipython3",
   "version": "3.9.15"
  },
  "toc": {
   "base_numbering": 1,
   "nav_menu": {},
   "number_sections": true,
   "sideBar": true,
   "skip_h1_title": false,
   "title_cell": "Table of Contents",
   "title_sidebar": "Contents",
   "toc_cell": false,
   "toc_position": {},
   "toc_section_display": true,
   "toc_window_display": false
  },
  "varInspector": {
   "cols": {
    "lenName": 16,
    "lenType": 16,
    "lenVar": 40
   },
   "kernels_config": {
    "python": {
     "delete_cmd_postfix": "",
     "delete_cmd_prefix": "del ",
     "library": "var_list.py",
     "varRefreshCmd": "print(var_dic_list())"
    },
    "r": {
     "delete_cmd_postfix": ") ",
     "delete_cmd_prefix": "rm(",
     "library": "var_list.r",
     "varRefreshCmd": "cat(var_dic_list()) "
    }
   },
   "types_to_exclude": [
    "module",
    "function",
    "builtin_function_or_method",
    "instance",
    "_Feature"
   ],
   "window_display": false
  }
 },
 "nbformat": 4,
 "nbformat_minor": 5
}
